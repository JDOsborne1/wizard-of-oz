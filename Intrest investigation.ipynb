{
 "cells": [
  {
   "cell_type": "markdown",
   "metadata": {},
   "source": [
    "# Investigation into the growth produced on savings and current accounts"
   ]
  },
  {
   "cell_type": "markdown",
   "metadata": {},
   "source": [
    "Defining a class of \"Account\" with all the attributes of a bank account and a function to iterate the growth over one month, accounting for incoming and outgoings."
   ]
  },
  {
   "cell_type": "code",
   "execution_count": 29,
   "metadata": {},
   "outputs": [],
   "source": [
    "class Account:\n",
    "    def __init__(self, balance, incomings, outgoings, interest_rate):\n",
    "        self.balance = balance\n",
    "        self.incomings = incomings\n",
    "        self.outgoings = outgoings\n",
    "        self.interest_rate = interest_rate\n",
    "    def monthTick(self):\n",
    "        self.balance += (self.incomings - self.outgoings) \n",
    "        self.balance *= (1 + self.interest_rate)\n",
    "        "
   ]
  },
  {
   "cell_type": "markdown",
   "metadata": {},
   "source": [
    "Setting up a pair of trial accounts, with the same starting balance, and incoming/outgoings, but where one has a reference 0% interest rate"
   ]
  },
  {
   "cell_type": "code",
   "execution_count": 27,
   "metadata": {},
   "outputs": [],
   "source": [
    "trial = Account(1200, 2000, 1800, 0.0255)\n",
    "trial2 = Account(1200, 2000, 1800, 0)\n"
   ]
  },
  {
   "cell_type": "markdown",
   "metadata": {},
   "source": [
    "Now printing the difference between the account held at the stated interest rate, and the reference account"
   ]
  },
  {
   "cell_type": "code",
   "execution_count": 28,
   "metadata": {},
   "outputs": [
    {
     "name": "stdout",
     "output_type": "stream",
     "text": [
      "0\n",
      "35.700000000000045\n",
      "77.41035000000011\n",
      "125.28431392500033\n",
      "179.47906393008816\n",
      "240.15578006030546\n",
      "307.4797524518435\n",
      "381.62048613936577\n",
      "462.75180853591974\n",
      "551.0519796535859\n",
      "646.7038051347527\n",
      "749.8947521656892\n",
      "860.8170683459148\n",
      "979.6679035887364\n",
      "1106.64943513025\n",
      "1241.9689957260716\n",
      "1385.8392051170867\n",
      "1538.4781048475734\n",
      "1700.1092965211874\n",
      "1870.962083582478\n",
      "2051.2716167138315\n",
      "2241.2790429400347\n",
      "2441.2316585350063\n",
      "2651.3830658276493\n",
      "2871.9933340062544\n"
     ]
    }
   ],
   "source": [
    "print(trial.balance - trial2.balance)\n",
    "for i in range(24):\n",
    "    trial.monthTick()    \n",
    "    trial2.monthTick()\n",
    "    print(trial.balance - trial2.balance)"
   ]
  },
  {
   "cell_type": "code",
   "execution_count": null,
   "metadata": {},
   "outputs": [],
   "source": []
  },
  {
   "cell_type": "code",
   "execution_count": null,
   "metadata": {},
   "outputs": [],
   "source": []
  }
 ],
 "metadata": {
  "kernelspec": {
   "display_name": "Python [conda env:Anaconda3]",
   "language": "python",
   "name": "conda-env-Anaconda3-py"
  },
  "language_info": {
   "codemirror_mode": {
    "name": "ipython",
    "version": 3
   },
   "file_extension": ".py",
   "mimetype": "text/x-python",
   "name": "python",
   "nbconvert_exporter": "python",
   "pygments_lexer": "ipython3",
   "version": "3.6.6"
  }
 },
 "nbformat": 4,
 "nbformat_minor": 2
}
